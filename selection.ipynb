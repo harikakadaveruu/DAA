{
 "cells": [
  {
   "cell_type": "code",
   "execution_count": 2,
   "id": "2df797ab",
   "metadata": {},
   "outputs": [
    {
     "name": "stdout",
     "output_type": "stream",
     "text": [
      "Sorted array-> [1, 3, 12, 14, 20]\n"
     ]
    }
   ],
   "source": [
    "def selection_sort(arr):\n",
    "    n=len(arr)\n",
    "    for i in range(n-1):\n",
    "        min_i=i\n",
    "        for j in range(i+1,n):\n",
    "            if arr[j]<arr[min_i]:\n",
    "                min_i=j\n",
    "        arr[i],arr[min_i]=arr[min_i],arr[i]\n",
    "l = [3,12,20,1,14]\n",
    "selection_sort(l)\n",
    "print(\"Sorted array->\",l)"
   ]
  },
  {
   "cell_type": "code",
   "execution_count": null,
   "id": "ea749f25",
   "metadata": {},
   "outputs": [],
   "source": []
  },
  {
   "cell_type": "code",
   "execution_count": null,
   "id": "f8e39310",
   "metadata": {},
   "outputs": [],
   "source": []
  }
 ],
 "metadata": {
  "kernelspec": {
   "display_name": "Python 3 (ipykernel)",
   "language": "python",
   "name": "python3"
  },
  "language_info": {
   "codemirror_mode": {
    "name": "ipython",
    "version": 3
   },
   "file_extension": ".py",
   "mimetype": "text/x-python",
   "name": "python",
   "nbconvert_exporter": "python",
   "pygments_lexer": "ipython3",
   "version": "3.11.5"
  }
 },
 "nbformat": 4,
 "nbformat_minor": 5
}
